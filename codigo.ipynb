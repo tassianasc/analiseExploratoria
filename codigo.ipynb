{
 "cells": [
  {
   "cell_type": "code",
   "execution_count": 55,
   "metadata": {
    "ExecuteTime": {
     "end_time": "2024-10-25T16:06:17.874021Z",
     "start_time": "2024-10-25T16:06:17.863866Z"
    }
   },
   "outputs": [],
   "source": [
    "#importando as bibliotecas\n",
    "import pandas as pd\n",
    "import matplotlib.pyplot as plt\n",
    "%matplotlib inline\n",
    "import seaborn as sns"
   ]
  },
  {
   "cell_type": "code",
   "execution_count": 56,
   "metadata": {
    "ExecuteTime": {
     "end_time": "2024-10-25T15:58:20.305715Z",
     "start_time": "2024-10-25T15:58:20.280866Z"
    }
   },
   "outputs": [
    {
     "data": {
      "text/html": [
       "<div>\n",
       "<style scoped>\n",
       "    .dataframe tbody tr th:only-of-type {\n",
       "        vertical-align: middle;\n",
       "    }\n",
       "\n",
       "    .dataframe tbody tr th {\n",
       "        vertical-align: top;\n",
       "    }\n",
       "\n",
       "    .dataframe thead th {\n",
       "        text-align: right;\n",
       "    }\n",
       "</style>\n",
       "<table border=\"1\" class=\"dataframe\">\n",
       "  <thead>\n",
       "    <tr style=\"text-align: right;\">\n",
       "      <th></th>\n",
       "      <th>Unnamed: 0</th>\n",
       "      <th>birth_year</th>\n",
       "      <th>birth_date</th>\n",
       "      <th>birthplace</th>\n",
       "      <th>race_ethnicity</th>\n",
       "      <th>religion</th>\n",
       "      <th>sexual_orientation</th>\n",
       "      <th>year_edition</th>\n",
       "      <th>category</th>\n",
       "      <th>movie</th>\n",
       "    </tr>\n",
       "  </thead>\n",
       "  <tbody>\n",
       "    <tr>\n",
       "      <th>0</th>\n",
       "      <td>Marie Dressler</td>\n",
       "      <td>1868</td>\n",
       "      <td>1868-11-02</td>\n",
       "      <td>Cobourg, Ontario, Canada</td>\n",
       "      <td>White</td>\n",
       "      <td>NaN</td>\n",
       "      <td>Straight</td>\n",
       "      <td>1931</td>\n",
       "      <td>Best Actress</td>\n",
       "      <td>Min and Bill</td>\n",
       "    </tr>\n",
       "    <tr>\n",
       "      <th>1</th>\n",
       "      <td>George Arliss</td>\n",
       "      <td>1868</td>\n",
       "      <td>1868-04-10</td>\n",
       "      <td>London, England</td>\n",
       "      <td>White</td>\n",
       "      <td>NaN</td>\n",
       "      <td>Straight</td>\n",
       "      <td>1930</td>\n",
       "      <td>Best Actor</td>\n",
       "      <td>Desraeli</td>\n",
       "    </tr>\n",
       "    <tr>\n",
       "      <th>2</th>\n",
       "      <td>Edmund Gwenn</td>\n",
       "      <td>1875</td>\n",
       "      <td>1875-09-26</td>\n",
       "      <td>Vale of Glamorgan, Wales</td>\n",
       "      <td>White</td>\n",
       "      <td>NaN</td>\n",
       "      <td>Na</td>\n",
       "      <td>1948</td>\n",
       "      <td>Best Supporting Actor</td>\n",
       "      <td>Miracle on 34th Street</td>\n",
       "    </tr>\n",
       "    <tr>\n",
       "      <th>3</th>\n",
       "      <td>Charles Coburn</td>\n",
       "      <td>1877</td>\n",
       "      <td>1877-06-17</td>\n",
       "      <td>Savannah, Ga</td>\n",
       "      <td>White</td>\n",
       "      <td>NaN</td>\n",
       "      <td>Straight</td>\n",
       "      <td>1944</td>\n",
       "      <td>Best Supporting Actor</td>\n",
       "      <td>The More the Merrier</td>\n",
       "    </tr>\n",
       "    <tr>\n",
       "      <th>4</th>\n",
       "      <td>Lionel Barrymore</td>\n",
       "      <td>1878</td>\n",
       "      <td>1878-04-28</td>\n",
       "      <td>Philadelphia, Pa</td>\n",
       "      <td>White</td>\n",
       "      <td>Roman Catholic</td>\n",
       "      <td>Straight</td>\n",
       "      <td>1931</td>\n",
       "      <td>Best Actor</td>\n",
       "      <td>A Free Soul</td>\n",
       "    </tr>\n",
       "  </tbody>\n",
       "</table>\n",
       "</div>"
      ],
      "text/plain": [
       "         Unnamed: 0  birth_year  birth_date                birthplace  \\\n",
       "0    Marie Dressler        1868  1868-11-02  Cobourg, Ontario, Canada   \n",
       "1     George Arliss        1868  1868-04-10           London, England   \n",
       "2      Edmund Gwenn        1875  1875-09-26  Vale of Glamorgan, Wales   \n",
       "3    Charles Coburn        1877  1877-06-17              Savannah, Ga   \n",
       "4  Lionel Barrymore        1878  1878-04-28          Philadelphia, Pa   \n",
       "\n",
       "  race_ethnicity        religion sexual_orientation  year_edition  \\\n",
       "0          White             NaN           Straight          1931   \n",
       "1          White             NaN           Straight          1930   \n",
       "2          White             NaN                 Na          1948   \n",
       "3          White             NaN           Straight          1944   \n",
       "4          White  Roman Catholic           Straight          1931   \n",
       "\n",
       "                category                   movie  \n",
       "0           Best Actress            Min and Bill  \n",
       "1             Best Actor                Desraeli  \n",
       "2  Best Supporting Actor  Miracle on 34th Street  \n",
       "3  Best Supporting Actor    The More the Merrier  \n",
       "4             Best Actor             A Free Soul  "
      ]
     },
     "execution_count": 56,
     "metadata": {},
     "output_type": "execute_result"
    }
   ],
   "source": [
    "#carregando o arquivo\n",
    "df = pd.read_csv('tabelaOscar.csv')\n",
    "\n",
    "#exibindo os 5 primeiros dados\n",
    "df.head()"
   ]
  },
  {
   "cell_type": "code",
   "execution_count": 57,
   "metadata": {
    "ExecuteTime": {
     "end_time": "2024-10-25T15:58:25.045696Z",
     "start_time": "2024-10-25T15:58:25.035345Z"
    }
   },
   "outputs": [],
   "source": [
    "#renomeando as colunas\n",
    "df.rename(columns={'Unnamed: 0': 'nome', 'birth_year': 'ano_nascimento', 'birth_date': 'data_nascimento',\n",
    "'birthplace': 'local_nascimento','race_ethnicity': 'etnia','religion': 'religiao','sexual_orientation': 'orientacao_sexual','year_edition': 'ano_edicao','category': 'categoria','movie': 'filme',}, inplace=True)"
   ]
  },
  {
   "cell_type": "code",
   "execution_count": 58,
   "metadata": {
    "ExecuteTime": {
     "end_time": "2024-10-25T15:58:29.782259Z",
     "start_time": "2024-10-25T15:58:29.772639Z"
    }
   },
   "outputs": [],
   "source": [
    "# Preenchendo os dados faltantes na coluna 'data_nascimento' com um valor padrão\n",
    "df['data_nascimento'] = df['data_nascimento'].fillna('Data desconhecida')"
   ]
  },
  {
   "cell_type": "code",
   "execution_count": 59,
   "metadata": {
    "ExecuteTime": {
     "end_time": "2024-10-25T15:58:31.374024Z",
     "start_time": "2024-10-25T15:58:31.357669Z"
    }
   },
   "outputs": [
    {
     "name": "stdout",
     "output_type": "stream",
     "text": [
      "<class 'pandas.core.frame.DataFrame'>\n",
      "RangeIndex: 415 entries, 0 to 414\n",
      "Data columns (total 10 columns):\n",
      " #   Column             Non-Null Count  Dtype \n",
      "---  ------             --------------  ----- \n",
      " 0   nome               415 non-null    object\n",
      " 1   ano_nascimento     415 non-null    int64 \n",
      " 2   data_nascimento    415 non-null    object\n",
      " 3   local_nascimento   415 non-null    object\n",
      " 4   etnia              415 non-null    object\n",
      " 5   religiao           159 non-null    object\n",
      " 6   orientacao_sexual  415 non-null    object\n",
      " 7   ano_edicao         415 non-null    int64 \n",
      " 8   categoria          415 non-null    object\n",
      " 9   filme              415 non-null    object\n",
      "dtypes: int64(2), object(8)\n",
      "memory usage: 32.5+ KB\n"
     ]
    }
   ],
   "source": [
    "# Descrição dos dados \n",
    "df.info()"
   ]
  },
  {
   "cell_type": "code",
   "execution_count": 60,
   "metadata": {
    "ExecuteTime": {
     "end_time": "2024-10-25T15:59:02.646390Z",
     "start_time": "2024-10-25T15:59:02.635458Z"
    }
   },
   "outputs": [
    {
     "data": {
      "text/plain": [
       "nome                   0\n",
       "ano_nascimento         0\n",
       "data_nascimento        0\n",
       "local_nascimento       0\n",
       "etnia                  0\n",
       "religiao             256\n",
       "orientacao_sexual      0\n",
       "ano_edicao             0\n",
       "categoria              0\n",
       "filme                  0\n",
       "dtype: int64"
      ]
     },
     "execution_count": 60,
     "metadata": {},
     "output_type": "execute_result"
    }
   ],
   "source": [
    "#Verificação de valores ausentes\n",
    "df.isnull().sum()"
   ]
  },
  {
   "cell_type": "code",
   "execution_count": 61,
   "metadata": {
    "ExecuteTime": {
     "end_time": "2024-10-25T15:59:07.431106Z",
     "start_time": "2024-10-25T15:59:07.416961Z"
    }
   },
   "outputs": [
    {
     "data": {
      "text/plain": [
       "religiao\n",
       "Roman Catholic           57\n",
       "Jewish                   45\n",
       "Atheist                  15\n",
       "Baptist                   5\n",
       "Protestant                5\n",
       "Born-Again Christian      4\n",
       "Buddhist                  4\n",
       "Lutheran                  3\n",
       "Christian Science         3\n",
       "Deist                     3\n",
       "Anglican/episcopalian     2\n",
       "Christian                 2\n",
       "Presbyterian              2\n",
       "Quaker                    2\n",
       "See Note                  1\n",
       "Agnostic                  1\n",
       "Sufism                    1\n",
       "Methodist                 1\n",
       "Congregationalist         1\n",
       "Disciples of Christ       1\n",
       "Hindu                     1\n",
       "Name: count, dtype: int64"
      ]
     },
     "execution_count": 61,
     "metadata": {},
     "output_type": "execute_result"
    }
   ],
   "source": [
    "# Quais são as religiões presentes no DataFrame?\n",
    "df['religiao'].value_counts()"
   ]
  },
  {
   "cell_type": "code",
   "execution_count": 62,
   "metadata": {
    "ExecuteTime": {
     "end_time": "2024-10-25T16:06:08.974573Z",
     "start_time": "2024-10-25T16:06:08.959103Z"
    }
   },
   "outputs": [
    {
     "data": {
      "text/plain": [
       "nome                 0\n",
       "ano_nascimento       0\n",
       "data_nascimento      0\n",
       "local_nascimento     0\n",
       "etnia                0\n",
       "religiao             0\n",
       "orientacao_sexual    0\n",
       "ano_edicao           0\n",
       "categoria            0\n",
       "filme                0\n",
       "dtype: int64"
      ]
     },
     "execution_count": 62,
     "metadata": {},
     "output_type": "execute_result"
    }
   ],
   "source": [
    "#Tratamento de dados faltantes: Criação de uma nova categoria de religião \"Desconhecida\"\n",
    "df['religiao'] = df['religiao'].fillna('Desconhecida')\n",
    "df.isnull().sum()"
   ]
  },
  {
   "cell_type": "code",
   "execution_count": 63,
   "metadata": {
    "ExecuteTime": {
     "end_time": "2024-10-25T16:06:52.562490Z",
     "start_time": "2024-10-25T16:06:51.985726Z"
    }
   },
   "outputs": [
    {
     "data": {
      "image/png": "[encoded data removed]",
      "text/plain": [
       "<Figure size 1000x600 with 1 Axes>"
      ]
     },
     "metadata": {},
     "output_type": "display_data"
    },
    {
     "name": "stdout",
     "output_type": "stream",
     "text": [
      "                 religiao  count\n",
      "0            Desconhecida    256\n",
      "1          Roman Catholic     57\n",
      "2                  Jewish     45\n",
      "3                 Atheist     15\n",
      "4                 Baptist      5\n",
      "5              Protestant      5\n",
      "6    Born-Again Christian      4\n",
      "7                Buddhist      4\n",
      "8                Lutheran      3\n",
      "9       Christian Science      3\n",
      "10                  Deist      3\n",
      "11  Anglican/episcopalian      2\n",
      "12              Christian      2\n",
      "13           Presbyterian      2\n",
      "14                 Quaker      2\n",
      "15               See Note      1\n",
      "16               Agnostic      1\n",
      "17                 Sufism      1\n",
      "18              Methodist      1\n",
      "19      Congregationalist      1\n",
      "20    Disciples of Christ      1\n",
      "21                  Hindu      1\n"
     ]
    }
   ],
   "source": [
    "# Contar a frequência de cada religião\n",
    "religion_counts = df['religiao'].value_counts().reset_index()\n",
    "religion_counts.columns = ['religiao', 'count']\n",
    "\n",
    "# Criar o gráfico de barras\n",
    "plt.figure(figsize=(10, 6))\n",
    "sns.barplot(x='count', y='religiao', data=religion_counts, hue='religiao', palette='viridis', legend=False)\n",
    "plt.title('Frequência de cada Religião')\n",
    "plt.xlabel('Quantidade de Atores')\n",
    "plt.ylabel('Religião')\n",
    "plt.show()\n",
    "print(religion_counts)"
   ]
  },
  {
   "cell_type": "code",
   "execution_count": 64,
   "metadata": {
    "ExecuteTime": {
     "end_time": "2024-10-25T16:00:44.529727Z",
     "start_time": "2024-10-25T16:00:44.509453Z"
    }
   },
   "outputs": [
    {
     "data": {
      "text/html": [
       "<div>\n",
       "<style scoped>\n",
       "    .dataframe tbody tr th:only-of-type {\n",
       "        vertical-align: middle;\n",
       "    }\n",
       "\n",
       "    .dataframe tbody tr th {\n",
       "        vertical-align: top;\n",
       "    }\n",
       "\n",
       "    .dataframe thead th {\n",
       "        text-align: right;\n",
       "    }\n",
       "</style>\n",
       "<table border=\"1\" class=\"dataframe\">\n",
       "  <thead>\n",
       "    <tr style=\"text-align: right;\">\n",
       "      <th></th>\n",
       "      <th>nome</th>\n",
       "      <th>ano_nascimento</th>\n",
       "      <th>data_nascimento</th>\n",
       "      <th>local_nascimento</th>\n",
       "      <th>etnia</th>\n",
       "      <th>religiao</th>\n",
       "      <th>orientacao_sexual</th>\n",
       "      <th>ano_edicao</th>\n",
       "      <th>categoria</th>\n",
       "      <th>filme</th>\n",
       "    </tr>\n",
       "  </thead>\n",
       "  <tbody>\n",
       "    <tr>\n",
       "      <th>410</th>\n",
       "      <td>Natalie Portman</td>\n",
       "      <td>1981</td>\n",
       "      <td>1981-06-09</td>\n",
       "      <td>Jerusalem, Israel</td>\n",
       "      <td>White</td>\n",
       "      <td>Jewish</td>\n",
       "      <td>Straight</td>\n",
       "      <td>2011</td>\n",
       "      <td>Best Actress</td>\n",
       "      <td>Black Swan</td>\n",
       "    </tr>\n",
       "    <tr>\n",
       "      <th>411</th>\n",
       "      <td>Anne Hathaway</td>\n",
       "      <td>1982</td>\n",
       "      <td>1982-11-12</td>\n",
       "      <td>Brooklyn, Ny</td>\n",
       "      <td>White</td>\n",
       "      <td>Christian</td>\n",
       "      <td>Straight</td>\n",
       "      <td>2013</td>\n",
       "      <td>Best Supporting Actress</td>\n",
       "      <td>Les MisÌ©rables</td>\n",
       "    </tr>\n",
       "    <tr>\n",
       "      <th>412</th>\n",
       "      <td>Anna Paquin</td>\n",
       "      <td>1982</td>\n",
       "      <td>1982-07-24</td>\n",
       "      <td>Winnipeg, Manitoba, Canada</td>\n",
       "      <td>White</td>\n",
       "      <td>Desconhecida</td>\n",
       "      <td>Bisexual</td>\n",
       "      <td>1994</td>\n",
       "      <td>Best Supporting Actress</td>\n",
       "      <td>The Piano</td>\n",
       "    </tr>\n",
       "    <tr>\n",
       "      <th>413</th>\n",
       "      <td>Lupita Nyong'o</td>\n",
       "      <td>1983</td>\n",
       "      <td>1983-03-01</td>\n",
       "      <td>Mexico City, Mexico</td>\n",
       "      <td>Black</td>\n",
       "      <td>Desconhecida</td>\n",
       "      <td>Na</td>\n",
       "      <td>2014</td>\n",
       "      <td>Best Supporting Actress</td>\n",
       "      <td>12 Years a Slave</td>\n",
       "    </tr>\n",
       "    <tr>\n",
       "      <th>414</th>\n",
       "      <td>Jennifer Lawrence</td>\n",
       "      <td>1990</td>\n",
       "      <td>1990-08-15</td>\n",
       "      <td>Louisville, Ky</td>\n",
       "      <td>White</td>\n",
       "      <td>Desconhecida</td>\n",
       "      <td>Na</td>\n",
       "      <td>2013</td>\n",
       "      <td>Best Actress</td>\n",
       "      <td>Silver Linings Playbook</td>\n",
       "    </tr>\n",
       "  </tbody>\n",
       "</table>\n",
       "</div>"
      ],
      "text/plain": [
       "                  nome  ano_nascimento data_nascimento  \\\n",
       "410    Natalie Portman            1981      1981-06-09   \n",
       "411      Anne Hathaway            1982      1982-11-12   \n",
       "412        Anna Paquin            1982      1982-07-24   \n",
       "413     Lupita Nyong'o            1983      1983-03-01   \n",
       "414  Jennifer Lawrence            1990      1990-08-15   \n",
       "\n",
       "               local_nascimento  etnia      religiao orientacao_sexual  \\\n",
       "410           Jerusalem, Israel  White        Jewish          Straight   \n",
       "411                Brooklyn, Ny  White     Christian          Straight   \n",
       "412  Winnipeg, Manitoba, Canada  White  Desconhecida          Bisexual   \n",
       "413         Mexico City, Mexico  Black  Desconhecida                Na   \n",
       "414              Louisville, Ky  White  Desconhecida                Na   \n",
       "\n",
       "     ano_edicao                categoria                    filme  \n",
       "410        2011             Best Actress               Black Swan  \n",
       "411        2013  Best Supporting Actress          Les MisÌ©rables  \n",
       "412        1994  Best Supporting Actress                The Piano  \n",
       "413        2014  Best Supporting Actress         12 Years a Slave  \n",
       "414        2013             Best Actress  Silver Linings Playbook  "
      ]
     },
     "execution_count": 64,
     "metadata": {},
     "output_type": "execute_result"
    }
   ],
   "source": [
    "#exibindo os 5 últimos dados\n",
    "df.tail()"
   ]
  },
  {
   "cell_type": "code",
   "execution_count": 65,
   "metadata": {},
   "outputs": [
    {
     "data": {
      "text/plain": [
       "(415, 10)"
      ]
     },
     "execution_count": 65,
     "metadata": {},
     "output_type": "execute_result"
    }
   ],
   "source": [
    "# Qual o tamanho do Dataframe?\n",
    "#o primeiro dado é referente a quantidade de linhas. O segundo é a quantidade de colunas\n",
    "df.shape"
   ]
  },
  {
   "cell_type": "code",
   "execution_count": 66,
   "metadata": {},
   "outputs": [
    {
     "data": {
      "text/html": [
       "<div>\n",
       "<style scoped>\n",
       "    .dataframe tbody tr th:only-of-type {\n",
       "        vertical-align: middle;\n",
       "    }\n",
       "\n",
       "    .dataframe tbody tr th {\n",
       "        vertical-align: top;\n",
       "    }\n",
       "\n",
       "    .dataframe thead th {\n",
       "        text-align: right;\n",
       "    }\n",
       "</style>\n",
       "<table border=\"1\" class=\"dataframe\">\n",
       "  <thead>\n",
       "    <tr style=\"text-align: right;\">\n",
       "      <th></th>\n",
       "      <th>ano_nascimento</th>\n",
       "      <th>ano_edicao</th>\n",
       "    </tr>\n",
       "  </thead>\n",
       "  <tbody>\n",
       "    <tr>\n",
       "      <th>count</th>\n",
       "      <td>415.000000</td>\n",
       "      <td>415.000000</td>\n",
       "    </tr>\n",
       "    <tr>\n",
       "      <th>mean</th>\n",
       "      <td>1928.848193</td>\n",
       "      <td>1972.867470</td>\n",
       "    </tr>\n",
       "    <tr>\n",
       "      <th>std</th>\n",
       "      <td>25.716376</td>\n",
       "      <td>24.057284</td>\n",
       "    </tr>\n",
       "    <tr>\n",
       "      <th>min</th>\n",
       "      <td>1868.000000</td>\n",
       "      <td>1927.000000</td>\n",
       "    </tr>\n",
       "    <tr>\n",
       "      <th>25%</th>\n",
       "      <td>1908.000000</td>\n",
       "      <td>1952.500000</td>\n",
       "    </tr>\n",
       "    <tr>\n",
       "      <th>50%</th>\n",
       "      <td>1928.000000</td>\n",
       "      <td>1973.000000</td>\n",
       "    </tr>\n",
       "    <tr>\n",
       "      <th>75%</th>\n",
       "      <td>1949.000000</td>\n",
       "      <td>1994.000000</td>\n",
       "    </tr>\n",
       "    <tr>\n",
       "      <th>max</th>\n",
       "      <td>1990.000000</td>\n",
       "      <td>2014.000000</td>\n",
       "    </tr>\n",
       "  </tbody>\n",
       "</table>\n",
       "</div>"
      ],
      "text/plain": [
       "       ano_nascimento   ano_edicao\n",
       "count      415.000000   415.000000\n",
       "mean      1928.848193  1972.867470\n",
       "std         25.716376    24.057284\n",
       "min       1868.000000  1927.000000\n",
       "25%       1908.000000  1952.500000\n",
       "50%       1928.000000  1973.000000\n",
       "75%       1949.000000  1994.000000\n",
       "max       1990.000000  2014.000000"
      ]
     },
     "execution_count": 66,
     "metadata": {},
     "output_type": "execute_result"
    }
   ],
   "source": [
    "#Analise matemática das colunas numéricas\n",
    "df.describe()"
   ]
  },
  {
   "cell_type": "code",
   "execution_count": 67,
   "metadata": {},
   "outputs": [
    {
     "data": {
      "text/plain": [
       "<Axes: xlabel='ano_edicao'>"
      ]
     },
     "execution_count": 67,
     "metadata": {},
     "output_type": "execute_result"
    },
    {
     "data": {
      "image/png": "[encoded data removed]",
      "text/plain": [
       "<Figure size 640x480 with 1 Axes>"
      ]
     },
     "metadata": {},
     "output_type": "display_data"
    }
   ],
   "source": [
    "#Verificação da existência de outliers nas variáveis numéricas\n",
    "# coluna: ano_edicao\n",
    "sns.boxplot(x=df['ano_edicao'])"
   ]
  },
  {
   "cell_type": "code",
   "execution_count": 68,
   "metadata": {},
   "outputs": [
    {
     "data": {
      "text/plain": [
       "<Axes: xlabel='ano_nascimento'>"
      ]
     },
     "execution_count": 68,
     "metadata": {},
     "output_type": "execute_result"
    },
    {
     "data": {
      "image/png": "[encoded data removed]",
      "text/plain": [
       "<Figure size 640x480 with 1 Axes>"
      ]
     },
     "metadata": {},
     "output_type": "display_data"
    }
   ],
   "source": [
    "# coluna ano_nascimento\n",
    "sns.boxplot(x=df['ano_nascimento'])"
   ]
  },
  {
   "cell_type": "code",
   "execution_count": 69,
   "metadata": {},
   "outputs": [
    {
     "data": {
      "text/plain": [
       "<Axes: xlabel='idade'>"
      ]
     },
     "execution_count": 69,
     "metadata": {},
     "output_type": "execute_result"
    },
    {
     "data": {
      "image/png": "[encoded data removed]",
      "text/plain": [
       "<Figure size 640x480 with 1 Axes>"
      ]
     },
     "metadata": {},
     "output_type": "display_data"
    }
   ],
   "source": [
    "#Verificação da existência de outliers \n",
    "# parâmetro: idade\n",
    "\n",
    "# Calcula a idade dos indicados no ano da edição do Oscar\n",
    "df['idade'] = df['ano_edicao'] - df['ano_nascimento']\n",
    "\n",
    "sns.boxplot(x=df['idade'])"
   ]
  },
  {
   "cell_type": "code",
   "execution_count": 70,
   "metadata": {},
   "outputs": [
    {
     "data": {
      "text/plain": [
       "categoria\n",
       "Best Actress               20.963855\n",
       "Best Actor                 20.722892\n",
       "Best Director              20.722892\n",
       "Best Supporting Actor      18.795181\n",
       "Best Supporting Actress    18.795181\n",
       "Name: proportion, dtype: float64"
      ]
     },
     "execution_count": 70,
     "metadata": {},
     "output_type": "execute_result"
    }
   ],
   "source": [
    "# Qual a porcentagem de indicações no quesito categoria?\n",
    "#Verificação das proporções das indicações (porcentagem)\n",
    "df['categoria'].value_counts(normalize=True) * 100"
   ]
  },
  {
   "cell_type": "code",
   "execution_count": 71,
   "metadata": {},
   "outputs": [
    {
     "data": {
      "text/plain": [
       "etnia\n",
       "White             93.012048\n",
       "Black              3.373494\n",
       "Hispanic           1.927711\n",
       "Asian              0.963855\n",
       "Multiracial        0.481928\n",
       "Middle Eastern     0.240964\n",
       "Name: proportion, dtype: float64"
      ]
     },
     "execution_count": 71,
     "metadata": {},
     "output_type": "execute_result"
    }
   ],
   "source": [
    "# Qual a porcentagem de indicações no quesito etnia?\n",
    "#Verificação das proporções das etnias (porcentagem)\n",
    "df['etnia'].value_counts(normalize=True) * 100"
   ]
  },
  {
   "cell_type": "code",
   "execution_count": 72,
   "metadata": {},
   "outputs": [
    {
     "data": {
      "text/plain": [
       "orientacao_sexual\n",
       "Straight             89.879518\n",
       "Bisexual              4.819277\n",
       "Na                    2.409639\n",
       "Gay                   1.686747\n",
       "Matter of Dispute     0.722892\n",
       "Lesbian               0.481928\n",
       "Name: proportion, dtype: float64"
      ]
     },
     "execution_count": 72,
     "metadata": {},
     "output_type": "execute_result"
    }
   ],
   "source": [
    "# Qual a porcentagem de indicações no quesito orientação sexual?\n",
    "#Verificação das proporções de orientação sexual (porcentagem)\n",
    "df['orientacao_sexual'].value_counts(normalize=True) * 100"
   ]
  },
  {
   "cell_type": "code",
   "execution_count": 73,
   "metadata": {},
   "outputs": [
    {
     "data": {
      "text/plain": [
       "religiao\n",
       "Desconhecida             61.686747\n",
       "Roman Catholic           13.734940\n",
       "Jewish                   10.843373\n",
       "Atheist                   3.614458\n",
       "Baptist                   1.204819\n",
       "Protestant                1.204819\n",
       "Born-Again Christian      0.963855\n",
       "Buddhist                  0.963855\n",
       "Lutheran                  0.722892\n",
       "Christian Science         0.722892\n",
       "Deist                     0.722892\n",
       "Anglican/episcopalian     0.481928\n",
       "Christian                 0.481928\n",
       "Presbyterian              0.481928\n",
       "Quaker                    0.481928\n",
       "See Note                  0.240964\n",
       "Agnostic                  0.240964\n",
       "Sufism                    0.240964\n",
       "Methodist                 0.240964\n",
       "Congregationalist         0.240964\n",
       "Disciples of Christ       0.240964\n",
       "Hindu                     0.240964\n",
       "Name: proportion, dtype: float64"
      ]
     },
     "execution_count": 73,
     "metadata": {},
     "output_type": "execute_result"
    }
   ],
   "source": [
    "# Qual a porcentagem de indicações no quesito religião?\n",
    "#Verificação das proporções de religião (porcentagem)\n",
    "df['religiao'].value_counts(normalize=True) * 100"
   ]
  },
  {
   "cell_type": "code",
   "execution_count": 74,
   "metadata": {},
   "outputs": [
    {
     "name": "stdout",
     "output_type": "stream",
     "text": [
      "                   filme  ano_edicao\n",
      "36   Two Arabian Knights        1927\n",
      "387   Dallas Buyers Club        2014\n"
     ]
    }
   ],
   "source": [
    "# Qual é o filme mais antigo e mais recente do Dataframe? Qual é o ano da edição deles?\n",
    "# Ordenando o DataFrame pelo ano de edição\n",
    "df_sorted = df.sort_values(by='ano_edicao')\n",
    "\n",
    "# Selecionando os filmes mais antigo e mais recente\n",
    "filmes_especificos = df_sorted.iloc[[0, -1]]\n",
    "\n",
    "# Exibindo os dados do filme mais antigo e mais recente do DataFrame\n",
    "print(filmes_especificos[['filme', 'ano_edicao']])"
   ]
  },
  {
   "cell_type": "code",
   "execution_count": 75,
   "metadata": {},
   "outputs": [
    {
     "name": "stdout",
     "output_type": "stream",
     "text": [
      "                  nome data_nascimento local_nascimento\n",
      "1        George Arliss      1868-04-10  London, England\n",
      "414  Jennifer Lawrence      1990-08-15   Louisville, Ky\n"
     ]
    }
   ],
   "source": [
    "# Qual ator/atriz é mais velho(a)? Qual é mais novo(a)? Quais são sua data e local de nascimento?\n",
    "\n",
    "# Ordenando o DataFrame pela data de nascimento\n",
    "df_sorted = df.sort_values(by='data_nascimento')\n",
    "\n",
    "# Selecionando os atores mais velho e mais novo\n",
    "atores_especificos = df_sorted.iloc[[0, -2]] #-2 pq 0 -1 tem dados faltantes\n",
    "\n",
    "# Exibindo os dados em formato de tabela\n",
    "print(atores_especificos[['nome', 'data_nascimento', 'local_nascimento']])"
   ]
  },
  {
   "cell_type": "code",
   "execution_count": 76,
   "metadata": {},
   "outputs": [
    {
     "data": {
      "text/plain": [
       "local_nascimento\n",
       "New York City                 31\n",
       "London, England               22\n",
       "Los Angeles, Ca               14\n",
       "Chicago, Il                   12\n",
       "Brooklyn, Ny                   9\n",
       "                              ..\n",
       "Perth, Australia               1\n",
       "Jerusalem, Israel              1\n",
       "Winnipeg, Manitoba, Canada     1\n",
       "Mexico City, Mexico            1\n",
       "Louisville, Ky                 1\n",
       "Name: count, Length: 233, dtype: int64"
      ]
     },
     "execution_count": 76,
     "metadata": {},
     "output_type": "execute_result"
    }
   ],
   "source": [
    "# Quais cidades os atores nasceram? Quantos atores por cidade?\n",
    "df['local_nascimento'].value_counts()"
   ]
  },
  {
   "cell_type": "code",
   "execution_count": 77,
   "metadata": {},
   "outputs": [
    {
     "data": {
      "text/html": [
       "<div>\n",
       "<style scoped>\n",
       "    .dataframe tbody tr th:only-of-type {\n",
       "        vertical-align: middle;\n",
       "    }\n",
       "\n",
       "    .dataframe tbody tr th {\n",
       "        vertical-align: top;\n",
       "    }\n",
       "\n",
       "    .dataframe thead th {\n",
       "        text-align: right;\n",
       "    }\n",
       "</style>\n",
       "<table border=\"1\" class=\"dataframe\">\n",
       "  <thead>\n",
       "    <tr style=\"text-align: right;\">\n",
       "      <th></th>\n",
       "      <th>ano_edicao</th>\n",
       "      <th>filme</th>\n",
       "    </tr>\n",
       "  </thead>\n",
       "  <tbody>\n",
       "    <tr>\n",
       "      <th>360</th>\n",
       "      <td>2004</td>\n",
       "      <td>The Lord of the Rings: Return of the King</td>\n",
       "    </tr>\n",
       "    <tr>\n",
       "      <th>349</th>\n",
       "      <td>2004</td>\n",
       "      <td>Mystic River</td>\n",
       "    </tr>\n",
       "    <tr>\n",
       "      <th>405</th>\n",
       "      <td>2004</td>\n",
       "      <td>Monster</td>\n",
       "    </tr>\n",
       "    <tr>\n",
       "      <th>388</th>\n",
       "      <td>2004</td>\n",
       "      <td>Cold Mountain</td>\n",
       "    </tr>\n",
       "    <tr>\n",
       "      <th>376</th>\n",
       "      <td>2005</td>\n",
       "      <td>Ray</td>\n",
       "    </tr>\n",
       "    <tr>\n",
       "      <th>401</th>\n",
       "      <td>2005</td>\n",
       "      <td>Million Dollar Baby</td>\n",
       "    </tr>\n",
       "    <tr>\n",
       "      <th>218</th>\n",
       "      <td>2005</td>\n",
       "      <td>Million Dollar Baby</td>\n",
       "    </tr>\n",
       "    <tr>\n",
       "      <th>256</th>\n",
       "      <td>2005</td>\n",
       "      <td>Million Dollar Baby</td>\n",
       "    </tr>\n",
       "    <tr>\n",
       "      <th>390</th>\n",
       "      <td>2005</td>\n",
       "      <td>The Aviator</td>\n",
       "    </tr>\n",
       "    <tr>\n",
       "      <th>362</th>\n",
       "      <td>2006</td>\n",
       "      <td>Syriana</td>\n",
       "    </tr>\n",
       "    <tr>\n",
       "      <th>407</th>\n",
       "      <td>2006</td>\n",
       "      <td>Walk the Line</td>\n",
       "    </tr>\n",
       "    <tr>\n",
       "      <th>392</th>\n",
       "      <td>2006</td>\n",
       "      <td>The Constant Gardener</td>\n",
       "    </tr>\n",
       "    <tr>\n",
       "      <th>331</th>\n",
       "      <td>2006</td>\n",
       "      <td>Brokeback Mountain</td>\n",
       "    </tr>\n",
       "    <tr>\n",
       "      <th>379</th>\n",
       "      <td>2006</td>\n",
       "      <td>Capote</td>\n",
       "    </tr>\n",
       "    <tr>\n",
       "      <th>286</th>\n",
       "      <td>2007</td>\n",
       "      <td>The Queen</td>\n",
       "    </tr>\n",
       "    <tr>\n",
       "      <th>357</th>\n",
       "      <td>2007</td>\n",
       "      <td>Michael Clayton</td>\n",
       "    </tr>\n",
       "    <tr>\n",
       "      <th>277</th>\n",
       "      <td>2007</td>\n",
       "      <td>The Departed</td>\n",
       "    </tr>\n",
       "    <tr>\n",
       "      <th>409</th>\n",
       "      <td>2007</td>\n",
       "      <td>Dreamgirls</td>\n",
       "    </tr>\n",
       "    <tr>\n",
       "      <th>361</th>\n",
       "      <td>2007</td>\n",
       "      <td>The Last King of Scotland</td>\n",
       "    </tr>\n",
       "    <tr>\n",
       "      <th>238</th>\n",
       "      <td>2007</td>\n",
       "      <td>Little Miss Sunshine</td>\n",
       "    </tr>\n",
       "    <tr>\n",
       "      <th>386</th>\n",
       "      <td>2008</td>\n",
       "      <td>No Country for Old Men</td>\n",
       "    </tr>\n",
       "    <tr>\n",
       "      <th>346</th>\n",
       "      <td>2008</td>\n",
       "      <td>There Will Be Blood</td>\n",
       "    </tr>\n",
       "    <tr>\n",
       "      <th>328</th>\n",
       "      <td>2008</td>\n",
       "      <td>No Country for Old Men</td>\n",
       "    </tr>\n",
       "    <tr>\n",
       "      <th>344</th>\n",
       "      <td>2008</td>\n",
       "      <td>No Country for Old Men</td>\n",
       "    </tr>\n",
       "    <tr>\n",
       "      <th>404</th>\n",
       "      <td>2008</td>\n",
       "      <td>The Passionate Life of Edith Piaf</td>\n",
       "    </tr>\n",
       "    <tr>\n",
       "      <th>359</th>\n",
       "      <td>2009</td>\n",
       "      <td>Milk</td>\n",
       "    </tr>\n",
       "    <tr>\n",
       "      <th>321</th>\n",
       "      <td>2009</td>\n",
       "      <td>The Hurt Locker</td>\n",
       "    </tr>\n",
       "    <tr>\n",
       "      <th>338</th>\n",
       "      <td>2009</td>\n",
       "      <td>Slumdog Millionaire</td>\n",
       "    </tr>\n",
       "    <tr>\n",
       "      <th>399</th>\n",
       "      <td>2009</td>\n",
       "      <td>Vicky Cristina Barcelona</td>\n",
       "    </tr>\n",
       "    <tr>\n",
       "      <th>408</th>\n",
       "      <td>2009</td>\n",
       "      <td>The Dark Knight</td>\n",
       "    </tr>\n",
       "    <tr>\n",
       "      <th>406</th>\n",
       "      <td>2009</td>\n",
       "      <td>The Reader</td>\n",
       "    </tr>\n",
       "    <tr>\n",
       "      <th>341</th>\n",
       "      <td>2010</td>\n",
       "      <td>Inglourious Basterds</td>\n",
       "    </tr>\n",
       "    <tr>\n",
       "      <th>369</th>\n",
       "      <td>2010</td>\n",
       "      <td>The Blind Side</td>\n",
       "    </tr>\n",
       "    <tr>\n",
       "      <th>380</th>\n",
       "      <td>2010</td>\n",
       "      <td>Precious</td>\n",
       "    </tr>\n",
       "    <tr>\n",
       "      <th>308</th>\n",
       "      <td>2010</td>\n",
       "      <td>Crazy Heart</td>\n",
       "    </tr>\n",
       "    <tr>\n",
       "      <th>394</th>\n",
       "      <td>2011</td>\n",
       "      <td>The King's Speech</td>\n",
       "    </tr>\n",
       "    <tr>\n",
       "      <th>400</th>\n",
       "      <td>2011</td>\n",
       "      <td>The Fighter</td>\n",
       "    </tr>\n",
       "    <tr>\n",
       "      <th>410</th>\n",
       "      <td>2011</td>\n",
       "      <td>Black Swan</td>\n",
       "    </tr>\n",
       "    <tr>\n",
       "      <th>356</th>\n",
       "      <td>2011</td>\n",
       "      <td>The Fighter</td>\n",
       "    </tr>\n",
       "    <tr>\n",
       "      <th>354</th>\n",
       "      <td>2011</td>\n",
       "      <td>The King's Speech</td>\n",
       "    </tr>\n",
       "    <tr>\n",
       "      <th>313</th>\n",
       "      <td>2012</td>\n",
       "      <td>The Iron Lady</td>\n",
       "    </tr>\n",
       "    <tr>\n",
       "      <th>212</th>\n",
       "      <td>2012</td>\n",
       "      <td>Beginning</td>\n",
       "    </tr>\n",
       "    <tr>\n",
       "      <th>397</th>\n",
       "      <td>2012</td>\n",
       "      <td>The Artist</td>\n",
       "    </tr>\n",
       "    <tr>\n",
       "      <th>383</th>\n",
       "      <td>2012</td>\n",
       "      <td>The Artist</td>\n",
       "    </tr>\n",
       "    <tr>\n",
       "      <th>395</th>\n",
       "      <td>2012</td>\n",
       "      <td>The Help</td>\n",
       "    </tr>\n",
       "    <tr>\n",
       "      <th>345</th>\n",
       "      <td>2013</td>\n",
       "      <td>Lincoln</td>\n",
       "    </tr>\n",
       "    <tr>\n",
       "      <th>330</th>\n",
       "      <td>2013</td>\n",
       "      <td>Life of Pi</td>\n",
       "    </tr>\n",
       "    <tr>\n",
       "      <th>342</th>\n",
       "      <td>2013</td>\n",
       "      <td>Django Unchained</td>\n",
       "    </tr>\n",
       "    <tr>\n",
       "      <th>414</th>\n",
       "      <td>2013</td>\n",
       "      <td>Silver Linings Playbook</td>\n",
       "    </tr>\n",
       "    <tr>\n",
       "      <th>411</th>\n",
       "      <td>2013</td>\n",
       "      <td>Les MisÌ©rables</td>\n",
       "    </tr>\n",
       "    <tr>\n",
       "      <th>393</th>\n",
       "      <td>2014</td>\n",
       "      <td>Dallas Buyers Club</td>\n",
       "    </tr>\n",
       "    <tr>\n",
       "      <th>387</th>\n",
       "      <td>2014</td>\n",
       "      <td>Dallas Buyers Club</td>\n",
       "    </tr>\n",
       "    <tr>\n",
       "      <th>389</th>\n",
       "      <td>2014</td>\n",
       "      <td>Blue Jasmine</td>\n",
       "    </tr>\n",
       "    <tr>\n",
       "      <th>413</th>\n",
       "      <td>2014</td>\n",
       "      <td>12 Years a Slave</td>\n",
       "    </tr>\n",
       "  </tbody>\n",
       "</table>\n",
       "</div>"
      ],
      "text/plain": [
       "     ano_edicao                                      filme\n",
       "360        2004  The Lord of the Rings: Return of the King\n",
       "349        2004                               Mystic River\n",
       "405        2004                                    Monster\n",
       "388        2004                              Cold Mountain\n",
       "376        2005                                        Ray\n",
       "401        2005                        Million Dollar Baby\n",
       "218        2005                        Million Dollar Baby\n",
       "256        2005                        Million Dollar Baby\n",
       "390        2005                                The Aviator\n",
       "362        2006                                    Syriana\n",
       "407        2006                              Walk the Line\n",
       "392        2006                      The Constant Gardener\n",
       "331        2006                         Brokeback Mountain\n",
       "379        2006                                     Capote\n",
       "286        2007                                  The Queen\n",
       "357        2007                            Michael Clayton\n",
       "277        2007                               The Departed\n",
       "409        2007                                 Dreamgirls\n",
       "361        2007                  The Last King of Scotland\n",
       "238        2007                       Little Miss Sunshine\n",
       "386        2008                     No Country for Old Men\n",
       "346        2008                        There Will Be Blood\n",
       "328        2008                     No Country for Old Men\n",
       "344        2008                     No Country for Old Men\n",
       "404        2008          The Passionate Life of Edith Piaf\n",
       "359        2009                                       Milk\n",
       "321        2009                            The Hurt Locker\n",
       "338        2009                        Slumdog Millionaire\n",
       "399        2009                   Vicky Cristina Barcelona\n",
       "408        2009                            The Dark Knight\n",
       "406        2009                                 The Reader\n",
       "341        2010                       Inglourious Basterds\n",
       "369        2010                             The Blind Side\n",
       "380        2010                                   Precious\n",
       "308        2010                                Crazy Heart\n",
       "394        2011                          The King's Speech\n",
       "400        2011                                The Fighter\n",
       "410        2011                                 Black Swan\n",
       "356        2011                                The Fighter\n",
       "354        2011                          The King's Speech\n",
       "313        2012                              The Iron Lady\n",
       "212        2012                                  Beginning\n",
       "397        2012                                 The Artist\n",
       "383        2012                                 The Artist\n",
       "395        2012                                   The Help\n",
       "345        2013                                    Lincoln\n",
       "330        2013                                 Life of Pi\n",
       "342        2013                           Django Unchained\n",
       "414        2013                    Silver Linings Playbook\n",
       "411        2013                            Les MisÌ©rables\n",
       "393        2014                         Dallas Buyers Club\n",
       "387        2014                         Dallas Buyers Club\n",
       "389        2014                               Blue Jasmine\n",
       "413        2014                           12 Years a Slave"
      ]
     },
     "execution_count": 77,
     "metadata": {},
     "output_type": "execute_result"
    }
   ],
   "source": [
    "# Quais são os 20 filmes mais recentes do Dataframe? Qual o seu ano de edição? Ordene do mais antigo para o mais recente. \n",
    "\n",
    "# Filtrando o DataFrame para os filmes dos últimos 20 anos\n",
    "ano_atual = 2024\n",
    "ponto_de_corte = ano_atual - 20\n",
    "\n",
    "# Filtrando o DataFrame para os filmes dos últimos 20 anos\n",
    "df_filmes_recente = df[df['ano_edicao'] >= ponto_de_corte]\n",
    "\n",
    "# Ordenando pelo ano de edição\n",
    "df_filmes_recente_sorted = df_filmes_recente.sort_values(by='ano_edicao')\n",
    "\n",
    "# Exibindo os dados em formato de tabela\n",
    "df_filmes_recente_sorted[['ano_edicao', 'filme']]"
   ]
  },
  {
   "cell_type": "code",
   "execution_count": 78,
   "metadata": {},
   "outputs": [
    {
     "data": {
      "text/html": [
       "<div>\n",
       "<style scoped>\n",
       "    .dataframe tbody tr th:only-of-type {\n",
       "        vertical-align: middle;\n",
       "    }\n",
       "\n",
       "    .dataframe tbody tr th {\n",
       "        vertical-align: top;\n",
       "    }\n",
       "\n",
       "    .dataframe thead th {\n",
       "        text-align: right;\n",
       "    }\n",
       "</style>\n",
       "<table border=\"1\" class=\"dataframe\">\n",
       "  <thead>\n",
       "    <tr style=\"text-align: right;\">\n",
       "      <th></th>\n",
       "      <th>nome</th>\n",
       "      <th>contagem</th>\n",
       "      <th>posicao_DataFrame</th>\n",
       "    </tr>\n",
       "  </thead>\n",
       "  <tbody>\n",
       "    <tr>\n",
       "      <th>0</th>\n",
       "      <td>John Ford</td>\n",
       "      <td>4</td>\n",
       "      <td>28</td>\n",
       "    </tr>\n",
       "    <tr>\n",
       "      <th>1</th>\n",
       "      <td>Katharine Hepburn</td>\n",
       "      <td>4</td>\n",
       "      <td>98</td>\n",
       "    </tr>\n",
       "    <tr>\n",
       "      <th>2</th>\n",
       "      <td>Daniel Day-Lewis</td>\n",
       "      <td>3</td>\n",
       "      <td>345</td>\n",
       "    </tr>\n",
       "    <tr>\n",
       "      <th>3</th>\n",
       "      <td>Frank Capra</td>\n",
       "      <td>3</td>\n",
       "      <td>42</td>\n",
       "    </tr>\n",
       "    <tr>\n",
       "      <th>4</th>\n",
       "      <td>Walter Brennan</td>\n",
       "      <td>3</td>\n",
       "      <td>32</td>\n",
       "    </tr>\n",
       "    <tr>\n",
       "      <th>5</th>\n",
       "      <td>William Wyler</td>\n",
       "      <td>3</td>\n",
       "      <td>68</td>\n",
       "    </tr>\n",
       "    <tr>\n",
       "      <th>6</th>\n",
       "      <td>Jack Nicholson</td>\n",
       "      <td>3</td>\n",
       "      <td>263</td>\n",
       "    </tr>\n",
       "    <tr>\n",
       "      <th>7</th>\n",
       "      <td>Meryl Streep</td>\n",
       "      <td>3</td>\n",
       "      <td>311</td>\n",
       "    </tr>\n",
       "    <tr>\n",
       "      <th>8</th>\n",
       "      <td>Ingrid Bergman</td>\n",
       "      <td>3</td>\n",
       "      <td>142</td>\n",
       "    </tr>\n",
       "  </tbody>\n",
       "</table>\n",
       "</div>"
      ],
      "text/plain": [
       "                nome  contagem  posicao_DataFrame\n",
       "0          John Ford         4                 28\n",
       "1  Katharine Hepburn         4                 98\n",
       "2   Daniel Day-Lewis         3                345\n",
       "3        Frank Capra         3                 42\n",
       "4     Walter Brennan         3                 32\n",
       "5      William Wyler         3                 68\n",
       "6     Jack Nicholson         3                263\n",
       "7       Meryl Streep         3                311\n",
       "8     Ingrid Bergman         3                142"
      ]
     },
     "execution_count": 78,
     "metadata": {},
     "output_type": "execute_result"
    }
   ],
   "source": [
    "# Quais atores mais foram indicados ao Oscar? Quantas vezes? Em qual linha do DataFame se localizam?\n",
    "\n",
    "# Contando a frequência dos nomes\n",
    "nomes_repetidos_contagem = df['nome'].value_counts()\n",
    "\n",
    "# Filtrando os nomes que se repetem 3 ou mais vezes\n",
    "nomes_repetidos_3_ou_mais = nomes_repetidos_contagem[nomes_repetidos_contagem >= 3].reset_index()\n",
    "nomes_repetidos_3_ou_mais.columns = ['nome', 'contagem']\n",
    "\n",
    "# Encontrando a primeira posição deles no DataFrame\n",
    "nomes_repetidos_3_ou_mais['posicao_DataFrame'] = nomes_repetidos_3_ou_mais['nome'].apply(lambda x: df[df['nome'] == x].index[0])\n",
    "\n",
    "# Exibindo os dados em formato de tabela\n",
    "nomes_repetidos_3_ou_mais"
   ]
  },
  {
   "cell_type": "code",
   "execution_count": 79,
   "metadata": {
    "ExecuteTime": {
     "end_time": "2024-10-25T16:09:26.259850Z",
     "start_time": "2024-10-25T16:09:25.826487Z"
    }
   },
   "outputs": [
    {
     "data": {
      "image/png": "[encoded data removed]",
      "text/plain": [
       "<Figure size 1200x800 with 1 Axes>"
      ]
     },
     "metadata": {},
     "output_type": "display_data"
    }
   ],
   "source": [
    "# Gráfico: Idade x categoria dos indicados. Como se relacionam?\n",
    "\n",
    "# Converte a coluna 'ano_nascimento' para um formato numérico. Trata valores inválidos\n",
    "df['ano_nascimento'] = pd.to_numeric(df['ano_nascimento'], errors='coerce')\n",
    "# Calcula a idade dos indicados no ano da edição do Oscar\n",
    "df['idade'] = df['ano_edicao'] - df['ano_nascimento']\n",
    "\n",
    "# Cria o gráfico de boxplot, ajustando o tamanho e rotação dos rótulos\n",
    "plt.figure(figsize=(12, 8))\n",
    "sns.boxplot(x='categoria', y='idade', data=df, hue='categoria')\n",
    "\n",
    "# Rotaciona os rótulos do eixo x para facilitar a leitura\n",
    "plt.xticks(rotation=45, ha='right')\n",
    "plt.xlabel('Categoria')\n",
    "plt.ylabel('Idade')\n",
    "plt.title('Distribuição da Idade por Categoria')\n",
    "# Ajusta o layout para evitar sobreposição\n",
    "plt.tight_layout()\n",
    "plt.show()"
   ]
  },
  {
   "cell_type": "code",
   "execution_count": 80,
   "metadata": {},
   "outputs": [
    {
     "data": {
      "image/png": "[encoded data removed]",
      "text/plain": [
       "<Figure size 1200x600 with 1 Axes>"
      ]
     },
     "metadata": {},
     "output_type": "display_data"
    }
   ],
   "source": [
    "# Gráfico dos atores mais indicados \n",
    "# Quais são os atores mais indicados? Foram quantas indicações?\n",
    "\n",
    "#plotando o gráfico\n",
    "plt.figure(figsize=(12, 6))\n",
    "sns.barplot(x='nome', y='contagem', data=nomes_repetidos_3_ou_mais, hue='nome')\n",
    "plt.title('Nomes mais indicados ao Oscar')\n",
    "plt.xticks(rotation=45)\n",
    "plt.show()"
   ]
  },
  {
   "cell_type": "code",
   "execution_count": 81,
   "metadata": {},
   "outputs": [
    {
     "data": {
      "image/png": "[encoded data removed]",
      "text/plain": [
       "<Figure size 1000x600 with 1 Axes>"
      ]
     },
     "metadata": {},
     "output_type": "display_data"
    }
   ],
   "source": [
    "# Gráfico: Etnia dos indicados x década da indicação\n",
    "# Quantos atores de cada etnia foram indicados em determinada década?\n",
    "\n",
    "# Calcula a década de cada edição\n",
    "df['decada'] = (df['ano_edicao'] // 10) * 10\n",
    "\n",
    "# Cria o gráfico de contagem com a coluna 'decada' no eixo x e as categorias de 'etinia' como cor\n",
    "plt.figure(figsize=(10, 6))\n",
    "sns.countplot(x='decada', hue='etnia', data=df)\n",
    "\n",
    "# Configurações dos rótulos e título\n",
    "plt.xlabel('Década')\n",
    "plt.ylabel('Contagem')\n",
    "plt.title('Distribuição de Indicados por Década e Etnia')\n",
    "\n",
    "# Ajuste da posição da legenda para o lado direito\n",
    "plt.legend(title='Etnia', bbox_to_anchor=(1.05, 1), loc='upper left')\n",
    "\n",
    "# Ajuste do layout para evitar sobreposição\n",
    "plt.tight_layout()\n",
    "\n",
    "# Plota o gráfico\n",
    "plt.show()\n"
   ]
  },
  {
   "cell_type": "code",
   "execution_count": null,
   "metadata": {},
   "outputs": [],
   "source": []
  }
 ],
 "metadata": {
  "kernelspec": {
   "display_name": "Python 3",
   "language": "python",
   "name": "python3"
  },
  "language_info": {
   "codemirror_mode": {
    "name": "ipython",
    "version": 3
   },
   "file_extension": ".py",
   "mimetype": "text/x-python",
   "name": "python",
   "nbconvert_exporter": "python",
   "pygments_lexer": "ipython3",
   "version": "3.10.4"
  }
 },
 "nbformat": 4,
 "nbformat_minor": 4
}
